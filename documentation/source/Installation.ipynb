{
 "cells": [
  {
   "cell_type": "markdown",
   "metadata": {},
   "source": [
    "# Install the CHARIS Data reduction pipeline"
   ]
  },
  {
   "cell_type": "markdown",
   "metadata": {},
   "source": [
    "### Requirements\n"
   ]
  },
  {
   "cell_type": "markdown",
   "metadata": {},
   "source": [
    "Python 2.7\n",
    "Cython with a C compiler and OpenMP. C compilers as gcc-5, gcc-mp-5, gcc-mp-6 are acceptable.\n",
    "\n",
    "Your computer should have at least ~2 GB of RAM to extract data cubes, and at least 2 GB/core (and at least 4 GB total) to build the calibration files.  The calibration files can take a long time to generate if you do not have multiple processors.\n"
   ]
  },
  {
   "cell_type": "markdown",
   "metadata": {},
   "source": [
    "### Dependencies"
   ]
  },
  {
   "cell_type": "markdown",
   "metadata": {},
   "source": [
    "numpy, scipy, astropy\n"
   ]
  },
  {
   "cell_type": "markdown",
   "metadata": {},
   "source": [
    "### Installation"
   ]
  },
  {
   "cell_type": "markdown",
   "metadata": {},
   "source": [
    "The easy way to install is to use the setup.py in this directory with\n"
   ]
  },
  {
   "cell_type": "markdown",
   "metadata": {},
   "source": [
    "~~~~\n",
    "python setup.py install\n",
    "~~~~"
   ]
  },
  {
   "cell_type": "markdown",
   "metadata": {},
   "source": [
    "I strongly recommend that you first install the anaconda Python 2.7 from here if you are not already using anaconda:\n",
    "https://www.continuum.io/downloads\n",
    "If you are running this on a Mac, you need gcc from Xcode, and you probably need a homebrew installation of gcc-5 to enable OpenMP linking.  Follow the instructions here:\n",
    "http://mathcancer.blogspot.com/2016/01/PrepOSXForCoding-Homebrew.html\n",
    "You may need to specify the C compiler when running the setup script using something like"
   ]
  },
  {
   "cell_type": "markdown",
   "metadata": {},
   "source": [
    "```\n",
    "CC=gcc-5 python setup.py install\n",
    "```"
   ]
  },
  {
   "cell_type": "markdown",
   "metadata": {},
   "source": [
    "or"
   ]
  },
  {
   "cell_type": "markdown",
   "metadata": {},
   "source": [
    "``` \n",
    "CC=gcc-mp-5 python setup.py install\n",
    "```"
   ]
  },
  {
   "cell_type": "markdown",
   "metadata": {},
   "source": [
    "Type gcc [tab][tab] in a terminal to see your available gcc compilers.  If you use tcsh instead of bash, your export command will be different, but something like this should work:"
   ]
  },
  {
   "cell_type": "markdown",
   "metadata": {},
   "source": [
    "```\n",
    "set CC = gcc-5\n",
    "python setup.py install\n",
    "```"
   ]
  },
  {
   "cell_type": "markdown",
   "metadata": {},
   "source": [
    "You can check that the installation was successful by typing:"
   ]
  },
  {
   "cell_type": "markdown",
   "metadata": {},
   "source": [
    "```\n",
    "buildcal\n",
    "Must call buildcal with at least three arguments:\n",
    "  1: The path to the narrow-band flatfield image\n",
    "  2: The wavelength, in nm, of the narrow-band image\n",
    "  3: The band/filter: 'J', 'H', 'K', or 'lowres'\n",
    "Example: buildcal CRSA00000000.fits 1550 lowres\n",
    "Optional additional arguments: filenames of darks\n",
    "  taken with the same observing setup.\n",
    "Example: buildcal CRSA00000000.fits 1550 lowres darks/CRSA*.fits\n",
    "```"
   ]
  },
  {
   "cell_type": "markdown",
   "metadata": {},
   "source": [
    "## Windows 10 install"
   ]
  },
  {
   "cell_type": "markdown",
   "metadata": {},
   "source": [
    "These instructions were provided by Zach Long and use the bash functionality within Windows 10. This procedure"
   ]
  },
  {
   "cell_type": "markdown",
   "metadata": {},
   "source": [
    "1. Download Anaconda 2.7 Linux installer from their website\n",
    "2. Download and extract CHARIS code\n",
    "3. Navigate to the appropriate folder (the folder is in mnt/c/ somewhere, c refers to the windows C: drive or whatever the main drive is)\n",
    "4. Install using \"bash Anaconda2-4.3.1-Linux-x86_64.sh\"\n",
    "5. Install pip using \"sudo apt-get install python-pip\"\n",
    "6. Do a \"sudo pip install cython\"\n",
    "7. If you get an error with gcc exiting with code 1 use this command \"sudo apt-get install python-dev\"\n",
    "8. Do another \"sudo pip install cython\"\n",
    "9. Do a \"conda install numpy\" (might have to close and reopen bash for this)\n",
    "10. Do a \"conda install astropy\"\n",
    "11. Do a \"pip install -U scipy\" (I'm not sure why it needs the upgraded version but it does)\n",
    "12. Navigate to the charis code folder again in /mnt/c/\n",
    "13. Run \"sudo python setup.py install\"\n",
    "14. Run \"export KMP_AFFINITY=disabled\" (this is because there is a known bug in scipy for windows bash. You'll know if it's happening if you get the following errors when you try to run buildcal\n",
    "```\n",
    "OMP: Error #100: Fatal system error detected.\n",
    "OMP: System error #22: Invalid argument\n",
    "Aborted (core dumped)\n",
    "```\n",
    "As far as I can tell you have to do it after you open a new bash terminal)\n",
    "\n",
    "15. Done, it should work at this point, it worked for me at least. If something doesn't work it's usually something to do with scipy so you many need to run a sudo \"pip install --upgrade pip\"\n",
    "16. Occasionally I have had to do a \"alias sudo='sudo env PATH=$PATH'\" if Cython decides not work because it's using the wrong python, I'm assuming the one that came preinstalled\n"
   ]
  },
  {
   "cell_type": "markdown",
   "metadata": {},
   "source": [
    "# Troubleshooting"
   ]
  },
  {
   "cell_type": "markdown",
   "metadata": {},
   "source": [
    "Most of the installation issues on Macs that have been encountered so far come from slight differences in the versions and the installations of python and gcc. We recommend following the steps above thoroughly. Here are sharing some of the issues and potential solutions."
   ]
  },
  {
   "cell_type": "markdown",
   "metadata": {},
   "source": [
    "### Install gcc through Macports"
   ]
  },
  {
   "cell_type": "markdown",
   "metadata": {},
   "source": [
    "Macports is a good alternative to download and install the correct version of gcc. First, make sure that the latest package definitions are updated with \"selfupdate\", and then download and install the latest version of gcc5."
   ]
  },
  {
   "cell_type": "markdown",
   "metadata": {},
   "source": [
    "~~~\n",
    "sudo port selfupdate\n",
    "sudo port install gcc5\n",
    "~~~"
   ]
  },
  {
   "cell_type": "markdown",
   "metadata": {},
   "source": [
    "This should have installed the latest version of gcc5. You can check what versions of gcc are available by typing gcc [tab][tab]. For example on a 2017 MacBook Pro with xcode installed, these are the programs that are installed:"
   ]
  },
  {
   "cell_type": "markdown",
   "metadata": {},
   "source": [
    "~~~\n",
    "gcc              gcc-mp-6         gcc-ranlib-mp-6  \n",
    "gcc-ar-mp-6      gcc-nm-mp-6      gccmakedep       \n",
    "~~~"
   ]
  },
  {
   "cell_type": "markdown",
   "metadata": {},
   "source": [
    "One would then run"
   ]
  },
  {
   "cell_type": "markdown",
   "metadata": {},
   "source": [
    "~~~\n",
    "CC=gcc-mp-6 python setup.py install\n",
    "~~~"
   ]
  },
  {
   "cell_type": "markdown",
   "metadata": {},
   "source": [
    "### Install the CHARIS DRP with AstroConda (or if you regular conda installation uses Python 3.xx)"
   ]
  },
  {
   "cell_type": "markdown",
   "metadata": {},
   "source": [
    "In order to not disturb your installation of Python 3.xx (with which the pipeline is not yet compatible), we can create a separate, isolated Python environment with conda. You can find some instructions on how to do this for example at  https://uoa-eresearch.github.io/eresearch-cookbook/recipe/2014/11/20/conda/. Below are the key elements:"
   ]
  },
  {
   "cell_type": "markdown",
   "metadata": {},
   "source": [
    "~~~\n",
    "conda create -n py27 python=2.7 anaconda\n",
    "~~~"
   ]
  },
  {
   "cell_type": "markdown",
   "metadata": {},
   "source": [
    "And once the installation is complete, you can activate your environment"
   ]
  },
  {
   "cell_type": "markdown",
   "metadata": {},
   "source": [
    "~~~\n",
    "source activate py27\n",
    "~~~"
   ]
  },
  {
   "cell_type": "markdown",
   "metadata": {},
   "source": [
    "To jump back out of the environment to your regular environment without having to close your terminal, you can type:"
   ]
  },
  {
   "cell_type": "markdown",
   "metadata": {},
   "source": [
    "~~~\n",
    "source deactivate py27\n",
    "~~~"
   ]
  }
 ],
 "metadata": {
  "anaconda-cloud": {},
  "kernelspec": {
   "display_name": "Bash",
   "language": "bash",
   "name": "bash"
  },
  "language_info": {
   "codemirror_mode": "shell",
   "file_extension": ".sh",
   "mimetype": "text/x-sh",
   "name": "bash"
  }
 },
 "nbformat": 4,
 "nbformat_minor": 1
}
